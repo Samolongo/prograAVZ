{
 "cells": [
  {
   "cell_type": "markdown",
   "metadata": {},
   "source": [
    "# Sistema de Reservas para un Cine\n",
    "Clase 'Persona'"
   ]
  },
  {
   "cell_type": "code",
   "execution_count": 1,
   "metadata": {},
   "outputs": [],
   "source": [
    "# PERSONA ;)\n",
    "class Persona:\n",
    "    # lista de personas\n",
    "    lista = []\n",
    "    \n",
    "    def __init__(self, nombre, contacto):\n",
    "        self.nombre = nombre\n",
    "        self.contacto = contacto\n",
    "\n",
    "    # registrar personas\n",
    "    def registrar(self):\n",
    "        Persona.lista.append(self)\n",
    "        print(f'Persona: {self.nombre} / Contacto: {self.contacto}')\n",
    "        print('Registro exitoso')\n",
    "        print('')\n",
    "\n",
    "    # actualizar registros\n",
    "    def actualizar_registro(self, nombre, contacto):\n",
    "        self.nombre = nombre\n",
    "        self.contacto = contacto\n",
    "        print('Registro actualizado')\n",
    "        print('')\n",
    "        \n",
    "    # consultar personas registradas\n",
    "    @classmethod\n",
    "    def personas_registradas(cls):\n",
    "        print('Personas registradas')\n",
    "        for Persona in cls.lista:\n",
    "            print(f'{Persona.nombre} / {Persona.contacto}')\n",
    "        print('')"
   ]
  },
  {
   "cell_type": "markdown",
   "metadata": {},
   "source": [
    "Subclase 'Usuario'"
   ]
  },
  {
   "cell_type": "code",
   "execution_count": 2,
   "metadata": {},
   "outputs": [],
   "source": [
    "# Usuario (PERSONA)\n",
    "class Usuario(Persona):\n",
    "    def __init__(self, nombre, contacto):\n",
    "        super().__init__(nombre, contacto)\n",
    "        # reservas registradas\n",
    "        self.historial_reservas = []\n",
    "\n",
    "    # registrar reservas\n",
    "    def reserva(self, funcion, asiento):\n",
    "        if asiento <= funcion.asientos_disponibles:\n",
    "            funcion.asientos_disponibles -= asiento\n",
    "            self.historial_reservas.append({'Función:':funcion, 'Asientos':asiento})\n",
    "            print('Reserva exitosa')\n",
    "            print(f'Función: {funcion.pelicula.titulo} / Hora: {funcion.hora} / Sala: {funcion.sala.identificador} / Asientos: {asiento}')\n",
    "            print('')\n",
    "        else:\n",
    "            print('No hay asientos disponibles')\n",
    "            print('')\n",
    "    \n",
    "    # cancelar reserva\n",
    "    def cancelar_reserva(self, funcion):\n",
    "        reserva = next((r for r in self.historial_reservas if r['funcion'] == funcion), None)\n",
    "        if reserva:\n",
    "            funcion.asientos_disponibles += reserva['asientos']\n",
    "            self.historial_reservas.remove(reserva)\n",
    "            print(f'{funcion.pelicula.titulo}')\n",
    "            print('Reserva cancelada')\n",
    "            print('')\n",
    "        else:\n",
    "            print('No existe reserva de esta función')\n",
    "            print('')\n",
    "    \n",
    "    # acceder a promoción\n",
    "    def acceder_promo(self, promocion):\n",
    "        print(f'{promocion.descuento} / {promocion.condicion}')\n",
    "        print(f'Promoción aplicada')\n",
    "        print('')\n",
    "\n",
    "    def compra_comida(self, zona_comida):\n",
    "        print(f'Alimento: {zona_comida.identificador} / Tamaño: {zona_comida.tamaño} / Tipo: {zona_comida.producto} / Precio: {zona_comida.precio}')\n",
    "        print('Alimentos agregados')\n",
    "        print('')"
   ]
  },
  {
   "cell_type": "markdown",
   "metadata": {},
   "source": [
    "Subclase 'Empleado'"
   ]
  },
  {
   "cell_type": "code",
   "execution_count": 3,
   "metadata": {},
   "outputs": [],
   "source": [
    "class Empleado(Persona):\n",
    "    def __init__(self, nombre, contacto, rol):\n",
    "        super().__init__(nombre, contacto)\n",
    "        self.rol = rol\n",
    "    \n",
    "    # agregar función\n",
    "    def agregar_funcion(self, funcion):\n",
    "        print(f'{funcion.pelicula.titulo} / {funcion.hora} / {funcion.sala.identificador}')\n",
    "        print('Función agregada')\n",
    "        print('')\n",
    "\n",
    "    # agregar película\n",
    "    def agregar_pelicula(self, pelicula):\n",
    "        print(f'{pelicula.titulo} / {pelicula.duracion} / {pelicula.clasificacion} / {pelicula.genero}')\n",
    "        print('Película agregada')\n",
    "        print('')\n",
    "        \n",
    "    # agregar promoción\n",
    "    def agregar_promocion(self, promocion):\n",
    "        print(f'Promoción: {promocion.descuento} / Condiciones: {promocion.condicion}')\n",
    "        print('Promoción agregada')\n",
    "        print('')\n",
    "\n",
    "    # modificar promoción\n",
    "    def modificar_promocion(self, promocion, nuevo_descuento, nueva_condicion):\n",
    "        promocion.descuento = nuevo_descuento\n",
    "        promocion.condicion = nueva_condicion\n",
    "        print(f'Descuento: {nuevo_descuento} - Condiciones: {nueva_condicion}')\n",
    "        print('Promoción modificada')\n",
    "        print('')"
   ]
  },
  {
   "cell_type": "markdown",
   "metadata": {},
   "source": [
    "Clase 'Espacio'"
   ]
  },
  {
   "cell_type": "code",
   "execution_count": 4,
   "metadata": {},
   "outputs": [],
   "source": [
    "class Espacio:\n",
    "    def __init__(self, identificador, tamaño):\n",
    "        self.tamaño = tamaño\n",
    "        self.identificador = identificador\n",
    "\n",
    "    def descripcion(self):\n",
    "        print(f'ID: {self.identificador} / Tamaño: {self.tamaño}')\n",
    "        print('')"
   ]
  },
  {
   "cell_type": "markdown",
   "metadata": {},
   "source": [
    "Subclase 'Sala'"
   ]
  },
  {
   "cell_type": "code",
   "execution_count": 5,
   "metadata": {},
   "outputs": [],
   "source": [
    "class Sala(Espacio):\n",
    "    def __init__(self, identificador, tamaño, tipo):\n",
    "        super().__init__(identificador, tamaño)\n",
    "        self.tipo = tipo\n",
    "        self.disponibilidad = True\n",
    "\n",
    "    def consultar_disponibilidad(self):\n",
    "        if self.disponibilidad:\n",
    "            print('Sala disponible')\n",
    "            print('')\n",
    "        else:\n",
    "            print('Sala no disponible')\n",
    "            print('')"
   ]
  },
  {
   "cell_type": "markdown",
   "metadata": {},
   "source": [
    "Subclase 'Zona_Comida'"
   ]
  },
  {
   "cell_type": "code",
   "execution_count": 6,
   "metadata": {},
   "outputs": [],
   "source": [
    "class Zona_Comida(Espacio):\n",
    "    inventario = []\n",
    "    def __init__(self, identificador, tamaño, producto, precio):\n",
    "        super().__init__(identificador, tamaño)\n",
    "        self.producto = producto\n",
    "        self.precio = precio\n",
    "    \n",
    "    def agregar_comida(self):\n",
    "        Zona_Comida.inventario.append(self)\n",
    "        print(f'Alimento: {self.identificador} / Tamaño: {self.tamaño} / Tipo: {self.producto} / Precio: {self.precio}')\n",
    "        print('Alimento agregado')\n",
    "        print('')\n",
    "        \n",
    "    @classmethod\n",
    "    def menu(cls):\n",
    "        print('Menu')\n",
    "        for Zona_Comida in cls.inventario:\n",
    "            print(f'Alimento: {Zona_Comida.identificador} / Tamaño: {Zona_Comida.tamaño} / Tipo: {Zona_Comida.producto} / Precio: {Zona_Comida.precio}')\n",
    "        print('')"
   ]
  },
  {
   "cell_type": "markdown",
   "metadata": {},
   "source": [
    "Clase 'Pelicula'"
   ]
  },
  {
   "cell_type": "code",
   "execution_count": 7,
   "metadata": {},
   "outputs": [],
   "source": [
    "class Pelicula:\n",
    "    def __init__(self, titulo, duracion, clasificacion, genero):\n",
    "        self.titulo = titulo\n",
    "        self.duracion = duracion\n",
    "        self.clasificacion = clasificacion\n",
    "        self.genero = genero\n",
    "    \n",
    "    # informacion de la pelicula\n",
    "    def info_pelicula(self):\n",
    "        print(f'Película: {self.titulo} / Duración: {self.duracion} / Clasificación: {self.clasificacion} / Género: {self.genero}')\n",
    "        print('')"
   ]
  },
  {
   "cell_type": "markdown",
   "metadata": {},
   "source": [
    "Clase 'Promocion'"
   ]
  },
  {
   "cell_type": "code",
   "execution_count": 8,
   "metadata": {},
   "outputs": [],
   "source": [
    "class Promocion:\n",
    "    def __init__(self, descuento, condicion):\n",
    "        self.descuento = descuento\n",
    "        self.condicion = condicion\n",
    "    \n",
    "    # mostrar promocion\n",
    "    def mostrar(self):\n",
    "        print(f'Promoción: {self.descuento} - Condiciones: {self.condicion}')\n",
    "        print('')"
   ]
  },
  {
   "cell_type": "markdown",
   "metadata": {},
   "source": [
    "Clase 'Funcion'"
   ]
  },
  {
   "cell_type": "code",
   "execution_count": 9,
   "metadata": {},
   "outputs": [],
   "source": [
    "class Funcion:\n",
    "    def __init__(self, pelicula, hora, sala, asientos_disponibles = None):\n",
    "        self.hora = hora\n",
    "        self.sala = sala\n",
    "        self.pelicula = pelicula\n",
    "        self.asientos_disponibles = asientos_disponibles or sala.tamaño\n",
    "\n",
    "    # CONSULTAR ASIENTOS\n",
    "    def consultar_asientos(self):\n",
    "        print(f'Asientos Dispobibles: {self.asientos_disponibles}')\n",
    "        print('')"
   ]
  },
  {
   "cell_type": "markdown",
   "metadata": {},
   "source": [
    "Prueba Final"
   ]
  },
  {
   "cell_type": "code",
   "execution_count": 10,
   "metadata": {},
   "outputs": [],
   "source": [
    "# PELICULAS\n",
    "pelicula1 = Pelicula('Star Wars',140,'B','Ciencia Ficción')\n",
    "pelicula2 = Pelicula('Whiplash',123,'B','Drama')\n",
    "pelicula3 = Pelicula('Shrek',90,'A','Comedia')\n",
    "\n",
    "# SALAS\n",
    "sala1 = Sala('Sala 1',100,'Normal')\n",
    "sala2 = Sala('Sala 2',100,'3D')\n",
    "sala3 = Sala('Sala 3',80,'IMAX')\n",
    "\n",
    "# FUNCIONES\n",
    "funcion1 = Funcion(pelicula1,'17:00',sala2,85)\n",
    "funcion2 = Funcion(pelicula2,'13:00',sala1,90)\n",
    "funcion3 = Funcion(pelicula3,'11:00',sala3,5)"
   ]
  },
  {
   "cell_type": "code",
   "execution_count": 11,
   "metadata": {},
   "outputs": [
    {
     "name": "stdout",
     "output_type": "stream",
     "text": [
      "Persona: Juan Escutia / Contacto: juaesc@gmail.com\n",
      "Registro exitoso\n",
      "\n",
      "Persona: Luis Armando / Contacto: luiarm@gmial.com\n",
      "Registro exitoso\n",
      "\n",
      "Promoción: 20% - Condiciones: Solo Martes\n",
      "\n",
      "Descuento: 10% - Condiciones: Solo Viernes\n",
      "Promoción modificada\n",
      "\n",
      "Star Wars / 17:00 / Sala 2\n",
      "Función agregada\n",
      "\n",
      "Sala disponible\n",
      "\n",
      "Persona: Franco Colapinto / Contacto: fracol@gmial.com\n",
      "Registro exitoso\n",
      "\n",
      "Persona: Checo Perez / Contacto: cheper@gmail.com\n",
      "Registro exitoso\n",
      "\n",
      "Personas registradas\n",
      "Juan Escutia / juaesc@gmail.com\n",
      "Luis Armando / luiarm@gmial.com\n",
      "Franco Colapinto / fracol@gmial.com\n",
      "Checo Perez / cheper@gmail.com\n",
      "\n"
     ]
    }
   ],
   "source": [
    "# EMPLEADOS\n",
    "empleado1 = Empleado('Juan Escutia','juaesc@gmail.com','Taquillero')\n",
    "empleado2 = Empleado('Luis Armando','luiarm@gmial.com','Gerente')\n",
    "empleado1.registrar()\n",
    "empleado2.registrar()\n",
    "\n",
    "promocion1 = Promocion('20%','Solo Martes')\n",
    "promocion1.mostrar()\n",
    "\n",
    "empleado1.modificar_promocion(promocion1,'10%','Solo Viernes')\n",
    "\n",
    "empleado1.agregar_funcion(funcion1)\n",
    "\n",
    "sala1.consultar_disponibilidad()\n",
    "\n",
    "# USUARIOS\n",
    "usuario1 = Usuario('Franco Colapinto','fracol@gmial.com')\n",
    "usuario2 = Usuario('Checo Perez','cheper@gmail.com')\n",
    "usuario1.registrar()\n",
    "usuario2.registrar()\n",
    "\n",
    "Persona.personas_registradas()"
   ]
  },
  {
   "cell_type": "code",
   "execution_count": 12,
   "metadata": {},
   "outputs": [
    {
     "name": "stdout",
     "output_type": "stream",
     "text": [
      "Alimento: Palomitas / Tamaño: Grandes / Tipo: Mantequilla / Precio: $90\n",
      "Alimento agregado\n",
      "\n",
      "Alimento: Refresco / Tamaño: Mediano / Tipo: Coca-Cola / Precio: $40\n",
      "Alimento agregado\n",
      "\n",
      "Menu\n",
      "Alimento: Palomitas / Tamaño: Grandes / Tipo: Mantequilla / Precio: $90\n",
      "Alimento: Refresco / Tamaño: Mediano / Tipo: Coca-Cola / Precio: $40\n",
      "\n"
     ]
    }
   ],
   "source": [
    "comida1 = Zona_Comida('Palomitas','Grandes','Mantequilla','$90')\n",
    "comida1.agregar_comida()\n",
    "\n",
    "comida2 = Zona_Comida('Refresco','Mediano','Coca-Cola','$40')\n",
    "comida2.agregar_comida()\n",
    "\n",
    "Zona_Comida.menu()"
   ]
  },
  {
   "cell_type": "code",
   "execution_count": 13,
   "metadata": {},
   "outputs": [
    {
     "name": "stdout",
     "output_type": "stream",
     "text": [
      "Reserva exitosa\n",
      "Función: Star Wars / Hora: 17:00 / Sala: Sala 2 / Asientos: 2\n",
      "\n",
      "Alimento: Refresco / Tamaño: Mediano / Tipo: Coca-Cola / Precio: $40\n",
      "Alimentos agregados\n",
      "\n"
     ]
    }
   ],
   "source": [
    "usuario1.reserva(funcion1,2)\n",
    "usuario1.compra_comida(comida2)"
   ]
  },
  {
   "cell_type": "code",
   "execution_count": 14,
   "metadata": {},
   "outputs": [
    {
     "name": "stdout",
     "output_type": "stream",
     "text": [
      "No hay asientos disponibles\n",
      "\n"
     ]
    }
   ],
   "source": [
    "usuario2.reserva(funcion2,200)"
   ]
  }
 ],
 "metadata": {
  "kernelspec": {
   "display_name": "Python 3",
   "language": "python",
   "name": "python3"
  },
  "language_info": {
   "codemirror_mode": {
    "name": "ipython",
    "version": 3
   },
   "file_extension": ".py",
   "mimetype": "text/x-python",
   "name": "python",
   "nbconvert_exporter": "python",
   "pygments_lexer": "ipython3",
   "version": "3.12.5"
  }
 },
 "nbformat": 4,
 "nbformat_minor": 2
}
