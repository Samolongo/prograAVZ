{
 "cells": [
  {
   "cell_type": "markdown",
   "metadata": {},
   "source": [
    "# Gestión de Pedidos en una Cafetería"
   ]
  },
  {
   "cell_type": "markdown",
   "metadata": {},
   "source": [
    "Clase 'Persona'"
   ]
  },
  {
   "cell_type": "code",
   "execution_count": 1,
   "metadata": {},
   "outputs": [],
   "source": [
    "class Persona:\n",
    "    personas_registradas = []\n",
    "    \n",
    "    def __init__(self, nombre):\n",
    "        self.nombre = nombre\n",
    "\n",
    "    def registrar(self):\n",
    "        Persona.personas_registradas.append(self)\n",
    "        print(f'{self.nombre}')\n",
    "        print('Registro exitoso')\n",
    "        print('')"
   ]
  },
  {
   "cell_type": "markdown",
   "metadata": {},
   "source": [
    "Subclase 'Cliente'"
   ]
  },
  {
   "cell_type": "code",
   "execution_count": 2,
   "metadata": {},
   "outputs": [],
   "source": [
    "class Cliente(Persona):\n",
    "    def __init__(self, nombre):\n",
    "        super().__init__(nombre)\n",
    "        self.historial_pedidos = []\n",
    "    \n",
    "    def realizar_pedido(self, pedido):\n",
    "        self.historial_pedidos.append(pedido)\n",
    "        print(f\"Pedido realizado por {self.nombre}.\")\n",
    "        print('')"
   ]
  },
  {
   "cell_type": "markdown",
   "metadata": {},
   "source": [
    "Subclase 'Empleado'"
   ]
  },
  {
   "cell_type": "code",
   "execution_count": 3,
   "metadata": {},
   "outputs": [],
   "source": [
    "class Empleado(Persona):\n",
    "    def __init__(self, nombre, rol):\n",
    "        super().__init__(nombre)\n",
    "        self.rol = rol\n",
    "    \n",
    "    def actualizar_inventario(self, inventario, ingrediente, cantidad):\n",
    "        inventario.actualizar_stock(ingrediente, cantidad)\n",
    "        print(f'{self.nombre} actualizó el inventario')\n",
    "        print(f'Ingrediente: {ingrediente} Cantidad: {cantidad}')\n",
    "        print('')"
   ]
  },
  {
   "cell_type": "markdown",
   "metadata": {},
   "source": [
    "Clase 'Producto_Base'"
   ]
  },
  {
   "cell_type": "code",
   "execution_count": null,
   "metadata": {},
   "outputs": [],
   "source": [
    "class Producto_Base:\n",
    "    def __init__(self, nombre, precio):\n",
    "        self.nombre = nombre\n",
    "        self.precio = precio"
   ]
  },
  {
   "cell_type": "markdown",
   "metadata": {},
   "source": [
    "Subclase 'Bebida'"
   ]
  },
  {
   "cell_type": "code",
   "execution_count": null,
   "metadata": {},
   "outputs": [],
   "source": [
    "class Bebida(Producto_Base):\n",
    "    def __init__(self, nombre, precio, tamano, tipo, opciones):\n",
    "        super().__init__(nombre, precio)\n",
    "        self.tamano = tamano\n",
    "        self.tipo = tipo\n",
    "        self.opciones = opciones"
   ]
  },
  {
   "cell_type": "markdown",
   "metadata": {},
   "source": [
    "Subclase 'Postre'"
   ]
  },
  {
   "cell_type": "code",
   "execution_count": null,
   "metadata": {},
   "outputs": [],
   "source": [
    "class Postre(Producto_Base):\n",
    "    def __init__(self, nombre, precio, vegano, sin_gluten):\n",
    "        super().__init__(nombre, precio)\n",
    "        self.vegano = vegano\n",
    "        self.sin_gluten = sin_gluten"
   ]
  },
  {
   "cell_type": "markdown",
   "metadata": {},
   "source": [
    "Clase 'Inventario'"
   ]
  },
  {
   "cell_type": "code",
   "execution_count": 7,
   "metadata": {},
   "outputs": [],
   "source": [
    "class Inventario:\n",
    "    def __init__(self):\n",
    "        self.ingredientes = {}\n",
    "    \n",
    "    def actualizar_stock(self, ingrediente, cantidad):\n",
    "        self.ingredientes[ingrediente] = self.ingredientes.get(ingrediente, 0) + cantidad\n",
    "    \n",
    "    def verificar_stock(self, ingrediente, cantidad):\n",
    "        return self.ingredientes.get(ingrediente, 0) >= cantidad"
   ]
  },
  {
   "cell_type": "markdown",
   "metadata": {},
   "source": [
    "Clase 'Pedido'"
   ]
  },
  {
   "cell_type": "code",
   "execution_count": 8,
   "metadata": {},
   "outputs": [],
   "source": [
    "class Pedido:\n",
    "    def __init__(self, cliente):\n",
    "        self.cliente = cliente\n",
    "        self.productos = []\n",
    "        self.estado = 'pendiente'\n",
    "        self.total = 0.0\n",
    "    \n",
    "    def agregar_producto(self, producto):\n",
    "        self.productos.append(producto)\n",
    "        self.total += producto.precio\n",
    "        print(f'{producto.nombre} agregado al pedido de {self.cliente.nombre}.')\n",
    "        print('')\n",
    "    \n",
    "    def cambiar_estado(self, nuevo_estado):\n",
    "        self.estado = nuevo_estado\n",
    "        print(f'Estado del pedido de {self.cliente.nombre}: {nuevo_estado}.')\n",
    "        print('')"
   ]
  },
  {
   "cell_type": "markdown",
   "metadata": {},
   "source": [
    "Clase 'Promocion'"
   ]
  },
  {
   "cell_type": "code",
   "execution_count": 9,
   "metadata": {},
   "outputs": [],
   "source": [
    "class Promocion:\n",
    "    def __init__(self, nombre, descuento):\n",
    "        self.nombre = nombre\n",
    "        self.descuento = descuento\n",
    "    \n",
    "    def aplicar_descuento(self, pedido):\n",
    "        pedido.total *= (1 - self.descuento)\n",
    "        print(f'Descuento: {self.descuento * 100}% aplicado al pedido de {pedido.cliente.nombre}.')\n",
    "        print('')"
   ]
  },
  {
   "cell_type": "markdown",
   "metadata": {},
   "source": [
    "Prueba Final"
   ]
  },
  {
   "cell_type": "code",
   "execution_count": null,
   "metadata": {},
   "outputs": [
    {
     "name": "stdout",
     "output_type": "stream",
     "text": [
      "Checo Pérez\n",
      "Registro exitoso\n",
      "\n",
      "Max Verstappen\n",
      "Registro exitoso\n",
      "\n",
      "Juan Escutia\n",
      "Registro exitoso\n",
      "\n",
      "Maria René\n",
      "Registro exitoso\n",
      "\n",
      "Café Americano agregado al pedido de Juan Escutia.\n",
      "\n",
      "Brownie agregado al pedido de Juan Escutia.\n",
      "\n",
      "Pedido realizado por Juan Escutia.\n",
      "\n",
      "Descuento: 10.0% aplicado al pedido de Juan Escutia.\n",
      "\n",
      "Estado del pedido de Juan Escutia: entregado.\n",
      "\n",
      "Personas registradas:\n",
      "- Checo Pérez\n",
      "- Max Verstappen\n",
      "- Juan Escutia\n",
      "- Maria René\n"
     ]
    }
   ],
   "source": [
    "tienda = Inventario()\n",
    "tienda.actualizar_stock('leche', 10)\n",
    "tienda.actualizar_stock('café', 5)\n",
    "\n",
    "gerente = Empleado('Checo Pérez', 'Gerente')\n",
    "gerente.registrar()\n",
    "mesero = Empleado('Max Verstappen', 'Mesero')\n",
    "mesero.registrar()\n",
    "\n",
    "tienda.actualizar_stock('azúcar', 20)\n",
    "\n",
    "tienda.verificar_stock('café', 2)\n",
    "\n",
    "cliente1 = Cliente(\"Juan Escutia\")\n",
    "cliente1.registrar()\n",
    "cliente2 = Cliente(\"Maria René\")\n",
    "cliente2.registrar()\n",
    "\n",
    "pedido1 = Pedido(cliente1)\n",
    "cafe = Bebida(\"Café Americano\", 50, \"mediano\", \"caliente\", {\"sin azúcar\": True})\n",
    "postre = Postre(\"Brownie\", 30, False, False)\n",
    "pedido1.agregar_producto(cafe)\n",
    "pedido1.agregar_producto(postre)\n",
    "cliente1.realizar_pedido(pedido1)\n",
    "\n",
    "promocion1 = Promocion(\"Descuento de Lunes\", 0.1)\n",
    "promocion1.aplicar_descuento(pedido1)\n",
    "pedido1.cambiar_estado(\"entregado\")\n",
    "\n",
    "print(\"Personas registradas:\")\n",
    "for persona in Persona.personas_registradas:\n",
    "    print(f\"- {persona.nombre}\")"
   ]
  }
 ],
 "metadata": {
  "kernelspec": {
   "display_name": "Python 3",
   "language": "python",
   "name": "python3"
  },
  "language_info": {
   "codemirror_mode": {
    "name": "ipython",
    "version": 3
   },
   "file_extension": ".py",
   "mimetype": "text/x-python",
   "name": "python",
   "nbconvert_exporter": "python",
   "pygments_lexer": "ipython3",
   "version": "3.12.5"
  }
 },
 "nbformat": 4,
 "nbformat_minor": 2
}
