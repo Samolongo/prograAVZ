{
 "cells": [
  {
   "cell_type": "code",
   "execution_count": 1,
   "metadata": {},
   "outputs": [],
   "source": [
    "from datetime import datetime, timedelta"
   ]
  },
  {
   "cell_type": "code",
   "execution_count": 2,
   "metadata": {},
   "outputs": [],
   "source": [
    "class Material:\n",
    "    def __init__(self, titulo, estado='disponible'):\n",
    "        self.titulo = titulo\n",
    "        self.estado = estado\n",
    "    \n",
    "    def __str__(self):\n",
    "        return f\"{self.titulo} ({self.estado})\""
   ]
  },
  {
   "cell_type": "code",
   "execution_count": 3,
   "metadata": {},
   "outputs": [],
   "source": [
    "class Libro(Material):\n",
    "    def __init__(self, titulo, autor, genero, estado='disponible'):\n",
    "        super().__init__(titulo, estado)\n",
    "        self.autor = autor\n",
    "        self.genero = genero"
   ]
  },
  {
   "cell_type": "code",
   "execution_count": 4,
   "metadata": {},
   "outputs": [],
   "source": [
    "class Revista(Material):\n",
    "    def __init__(self, titulo, edicion, periodicidad, estado='disponible'):\n",
    "        super().__init__(titulo, estado)\n",
    "        self.edicion = edicion\n",
    "        self.periodicidad = periodicidad"
   ]
  },
  {
   "cell_type": "code",
   "execution_count": 5,
   "metadata": {},
   "outputs": [],
   "source": [
    "class MaterialDigital(Material):\n",
    "    def __init__(self, titulo, tipo_archivo, enlace):\n",
    "        super().__init__(titulo, 'disponible')\n",
    "        self.tipo_archivo = tipo_archivo\n",
    "        self.enlace = enlace"
   ]
  },
  {
   "cell_type": "code",
   "execution_count": 6,
   "metadata": {},
   "outputs": [],
   "source": [
    "class Persona:\n",
    "    def __init__(self, nombre):\n",
    "        self.nombre = nombre"
   ]
  },
  {
   "cell_type": "code",
   "execution_count": 7,
   "metadata": {},
   "outputs": [],
   "source": [
    "class Usuario(Persona):\n",
    "    def __init__(self, nombre):\n",
    "        super().__init__(nombre)\n",
    "        self.prestamos = []\n",
    "\n",
    "    def solicitar_prestamo(self, material, bibliotecario, sucursal):\n",
    "        if material.estado == 'disponible':\n",
    "            prestamo = bibliotecario.gestionar_prestamo(self, material, sucursal)\n",
    "            if prestamo:\n",
    "                self.prestamos.append(prestamo)\n",
    "        else:\n",
    "            print(f'El material \"{material.titulo}\" no está disponible.')"
   ]
  },
  {
   "cell_type": "code",
   "execution_count": 8,
   "metadata": {},
   "outputs": [],
   "source": [
    "class Bibliotecario(Persona):\n",
    "    def __init__(self, nombre):\n",
    "        super().__init__(nombre)\n",
    "\n",
    "    def gestionar_prestamo(self, usuario, material, sucursal):\n",
    "        if material in sucursal.catalogo:\n",
    "            material.estado = 'prestado'\n",
    "            prestamo = Prestamo(usuario, material)\n",
    "            sucursal.registrar_prestamo(prestamo)\n",
    "            print(f'{usuario.nombre} ha tomado prestado \"{material.titulo}\"')\n",
    "            return prestamo\n",
    "        return None\n",
    "    \n",
    "    def transferir_material(self, material, sucursal_origen, sucursal_destino):\n",
    "        if material in sucursal_origen.catalogo:\n",
    "            sucursal_origen.catalogo.remove(material)\n",
    "            sucursal_destino.catalogo.append(material)\n",
    "            print(f'El material \"{material.titulo}\"\" ha sido transferido a {sucursal_destino.nombre}.')\n",
    "        else:\n",
    "            print('El material no se encuentra en la sucursal de origen.')"
   ]
  },
  {
   "cell_type": "code",
   "execution_count": 9,
   "metadata": {},
   "outputs": [],
   "source": [
    "class Sucursal:\n",
    "    def __init__(self, nombre):\n",
    "        self.nombre = nombre\n",
    "        self.catalogo = []\n",
    "        self.prestamos = []\n",
    "    \n",
    "    def agregar_material(self, material):\n",
    "        self.catalogo.append(material)\n",
    "    \n",
    "    def registrar_prestamo(self, prestamo):\n",
    "        self.prestamos.append(prestamo)"
   ]
  },
  {
   "cell_type": "code",
   "execution_count": 10,
   "metadata": {},
   "outputs": [],
   "source": [
    "class Prestamo:\n",
    "    def __init__(self, usuario, material):\n",
    "        self.usuario = usuario\n",
    "        self.material = material\n",
    "        self.fecha_prestamo = datetime.now()\n",
    "        self.fecha_devolucion = self.fecha_prestamo + timedelta(days=14)\n",
    "    \n",
    "    def __str__(self):\n",
    "        return f'{self.material.titulo} prestado a {self.usuario.nombre} hasta {self.fecha_devolucion.strftime(\"%d-%m-%Y\")}'"
   ]
  },
  {
   "cell_type": "code",
   "execution_count": null,
   "metadata": {},
   "outputs": [],
   "source": [
    "class Penalizacion:\n",
    "    def __init__(self, usuario, dias_retraso):\n",
    "        self.usuario = usuario\n",
    "        self.dias_retraso = dias_retraso\n",
    "        self.multa = dias_retraso * 2  \n",
    "    \n",
    "    def __str__(self):\n",
    "        return f'{self.usuario.nombre} tiene una multa de {self.multa} por {self.dias_retraso} días de retraso.'"
   ]
  },
  {
   "cell_type": "code",
   "execution_count": 12,
   "metadata": {},
   "outputs": [],
   "source": [
    "class Catalogo:\n",
    "    @staticmethod\n",
    "    def buscar_material(sucursales, titulo):\n",
    "        for sucursal in sucursales:\n",
    "            for material in sucursal.catalogo:\n",
    "                if material.titulo.lower() == titulo.lower():\n",
    "                    return f'Encontrado en {sucursal.nombre}: {material}'\n",
    "        return 'Material no encontrado.'"
   ]
  },
  {
   "cell_type": "code",
   "execution_count": 13,
   "metadata": {},
   "outputs": [
    {
     "name": "stdout",
     "output_type": "stream",
     "text": [
      "Carlos Pérez ha tomado prestado \"Cálculo Diferencial\"\n",
      "El material \"Cálculo Diferencial\"\" ha sido transferido a Biblioteca CU2.\n",
      "Encontrado en Biblioteca CU2: Cálculo Diferencial (prestado)\n"
     ]
    }
   ],
   "source": [
    "sucursal1 = Sucursal('Biblioteca Central')\n",
    "sucursal2 = Sucursal('Biblioteca CU2')\n",
    "\n",
    "libro1 = Libro('Cálculo Diferencial', 'Eduardo Ariza', 'Educativo')\n",
    "revista1 = Revista('Muy Interesante', 'Edición 2', 'Mensual')\n",
    "material_digital1 = MaterialDigital('Curso de Python', 'PDF', 'www.python.com')\n",
    "\n",
    "sucursal1.agregar_material(libro1)\n",
    "sucursal1.agregar_material(revista1)\n",
    "sucursal2.agregar_material(material_digital1)\n",
    "\n",
    "usuario1 = Usuario('Carlos Pérez')\n",
    "bibliotecario1 = Bibliotecario('María González')\n",
    "\n",
    "usuario1.solicitar_prestamo(libro1, bibliotecario1, sucursal1)\n",
    "\n",
    "bibliotecario1.transferir_material(libro1, sucursal1, sucursal2)\n",
    "\n",
    "encontrado = Catalogo.buscar_material([sucursal1, sucursal2], \"Cálculo Diferencial\")\n",
    "print(encontrado)"
   ]
  }
 ],
 "metadata": {
  "kernelspec": {
   "display_name": "Python 3",
   "language": "python",
   "name": "python3"
  },
  "language_info": {
   "codemirror_mode": {
    "name": "ipython",
    "version": 3
   },
   "file_extension": ".py",
   "mimetype": "text/x-python",
   "name": "python",
   "nbconvert_exporter": "python",
   "pygments_lexer": "ipython3",
   "version": "3.12.5"
  }
 },
 "nbformat": 4,
 "nbformat_minor": 2
}
